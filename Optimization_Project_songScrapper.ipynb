{
 "cells": [
  {
   "cell_type": "code",
   "execution_count": 1,
   "metadata": {},
   "outputs": [],
   "source": [
    "import pandas as pd\n",
    "import spotipy\n",
    "from spotipy.oauth2 import SpotifyClientCredentials\n",
    "import time\n"
   ]
  },
  {
   "cell_type": "code",
   "execution_count": 2,
   "metadata": {},
   "outputs": [],
   "source": [
    "client_id = '959a94f0126a4d6b9e4d199afe011004'\n",
    "client_secret = '4d6836972d2849858c0293a5c738efdc'\n",
    "client_credentials_manager = SpotifyClientCredentials(client_id,client_secret)\n",
    "sp = spotipy.Spotify(client_credentials_manager=client_credentials_manager)\n"
   ]
  },
  {
   "cell_type": "code",
   "execution_count": 11,
   "metadata": {},
   "outputs": [],
   "source": [
    "tracks = sp.user_playlist_tracks(user='31rb7hikptne74w3mvgiontedoei',playlist_id='https://open.spotify.com/playlist/4161XWuQ952QOzN4RrzUgj?si=aa43c8e756c74d00')\n",
    "#sp.audio_features('song_id')"
   ]
  },
  {
   "cell_type": "code",
   "execution_count": null,
   "metadata": {},
   "outputs": [],
   "source": []
  },
  {
   "cell_type": "code",
   "execution_count": 3,
   "metadata": {},
   "outputs": [],
   "source": [
    "def get_playlist_ids(username,playlist_id):\n",
    "    r = sp.user_playlist_tracks(username,playlist_id)\n",
    "    t = r['items']\n",
    "    ids = []\n",
    "    while r['next']:\n",
    "        r = sp.next(r)\n",
    "        t.extend(r['items'])\n",
    "    for s in t: ids.append(s[\"track\"][\"id\"])\n",
    "    return ids\n",
    "ids = get_playlist_ids('31rb7hikptne74w3mvgiontedoei', 'https://open.spotify.com/playlist/7CNk70KyA7K4AJrEbcTYan?si=9f31fe40271046c8')"
   ]
  },
  {
   "cell_type": "code",
   "execution_count": 4,
   "metadata": {},
   "outputs": [
    {
     "data": {
      "text/plain": [
       "130"
      ]
     },
     "execution_count": 4,
     "metadata": {},
     "output_type": "execute_result"
    }
   ],
   "source": [
    "len(ids)"
   ]
  },
  {
   "cell_type": "code",
   "execution_count": 5,
   "metadata": {},
   "outputs": [
    {
     "name": "stdout",
     "output_type": "stream",
     "text": [
      "['60nZcImufyMA1MKQY3dcCH', '04gQHzS8FLPoNdnRKw4jDJ', '22GUd9JOxhSidGguHxf3Nu', '01fFmXmAsNP4ahSVtLUfo9', '6U4VqEHy4n5VeiH4pQPL24', '0JQ5MbyriK6ruD3t6RZ7ix', '3joeQA8GGsVOf2lfgsGAtq', '5EOoMWIB9iK4ZpcSex9Ec7', '7rl1z4j7MurMDnn9rHh4M2', '0cHJrutP0iwLfbNZ8XO8wA', '4eM4q8ToqyeeRqzUPYFOW3', '2jjuzjDbmVOI7kNCSxy5e4', '4wNIkl5XGiAACjFBlDWuSd', '1sAB7fCrQ4YUIdoP24qlO1', '49X8pWDpmFpAITVUaudkcN', '6Rxnq6T6b89rgQaDmzBF0l', '7rdP71W8x4UbJ0KAKBACbo', '4Jz4bjXeiF2SXVj9P4YfY5', '3rmpb2RKPlbdbMjlc7SOlX', '3rT0YIyiE1n8JAUpBCUudE', '6rKEs1WbHJIi88UpHRhFLD', '1ouanDM2jYv4G09wUlftdO', '2kvgmr5CFhSvleQqTjB3eP', '5bcTCxgc7xVfSaMV3RuVke', '1Pzyen9KGLK2lKzA2rnOMm', '71WuBJBWDkgKusbyBJIOsp', '5DJNyvuMmZfsfvdTpMMmUq', '5e3UWcbvTaF5CJWu81MqlQ', '22PMfvdz35fFKYnJyMn077', '0nnxf8p851ZR49KFnGWVsB', '543esqtLQe6Snzxej1QnPM', '05wIrZSwuaVWhcv5FfqeH0', '5otzgmKpNi6YZeFMZxWfZF', '5uu28fUesZMl89lf9CLrgN', '7tld8T5xAPfOtMDYJ0GpdO', '4MJfCOcc2PpWOrUqOpvy1S', '1tNJrcVe6gwLEiZCtprs1u', '2Yer0p7uB2lVBUAtANuuQp', '3nVDOYBJpdCkRR6r1DbZum', '5qmq61DAAOUaW8AUo8xKhh', '3Yh9lZcWyKrK9GjbhuS0hR', '2maaNngI2yEGA5NQQ36ItV', '62QEUTrehaR7YS9z0wRcAi', '5awvelCGpDQHwgZem0ira9', '1gewwJHPkvysxLEGgOKQuB', '26qTfV9DiLTT5fBXgvXfFx', '1Cv1YLb4q0RzL6pybtaMLo', '6LcauUZjF1eXQrgqMUecHX', '3HYgLawcb8IUGHHlHUQffN', '4P5d7lMNGqMPcVBn994Lbp', '3gOMfJGCFg2g6mwiaH06GT', '7pOaZX6bC0nqA2n1lJit2f', '6h3lMAmmpQDFqoHk9F99IR', '25ran9X0iBOYnxFdP6c28n', '4W1hy390P7IYBFbdvwzZBw', '5CLGzJsGqhCEECcpnFQA8x', '1rqqCSm0Qe4I9rUvWncaom', '5IhzJOXNE7ki0IIJbZbnGq', '32JZFkClwxLNqBaaCHlH94', '6sqEOs1r597DU2YcHc9R44', '38odiT4ZNTFMkRryKnljon', '48td6xvpokdYwvbl3JIiXP', '359Q4gGdrQIFhRzs7J8gZu', '79hmDK8oZAVNHwpyOQ0Iqj', '2Iq6HhIquO7JKr0KfTNLzU', '6FE2iI43OZnszFLuLtvvmg', '6kcHg7XL6SKyPNd78daRBL', '33n9hKYymXgXV0p6j2zYp9', '59s3aMqR9uOzLIXAcgBCEm', '2rjjNUYONZqC7wSd1i6OFq', '7AqISujIaWcY3h5zrOqt5v', '1JNg2CWx4moNWOHDx8f5zM', '5LZtB6nxvjIhUoElp3Zqk0', '5wRxxLn858JYkcXhQStRC0', '0tuhCqrt3RPwCJC3aGYCFo', '36jDABK9TQixIZOZylPy04', '3OYiIQhHc5xNQsdV3jcbSv', '4kxc8dx13tJ2ovySLsYiAl', '5fWf6gj5RE9nma0nyOSuZ6', '2WhfLbSe7XTQBBz6HIEOnh', '4gwltSjdrzKtKz9dlk2Wja', '4GZ3YCkuH0VvTluVLwUp4g', '3xaFld7t4dy8EFphRQxMf9', '53kWAAfx7IopXRa31MQHB8', '3KvN5iyNctuHs8s5dydihf', '4jbtL4tjkqghUvJknUqU1s', '5pE4OLVJh5rjaLERbUgBB2', '748mdHapucXQri7IAO8yFK', '4K1ffoOIKcM5ip1s9CNjxf', '2POeOwZ3wS4MyCWxQ2Bohr', '0mA7zotmg2ZFMRALljdZsS', '5KQDGl3vAkNGyfvSbaW89E', '7d06uajfr1DZUeKVCaE9BS', '7h0k5VYp0p38OmauI9xR0P', '7r8JDlUEYeIqBg6dLBIb8P', '4djIFfof5TpbSGRZUpsTXq', '0X5mtNbqxbiTYkwj0CQc2f', '2HvtedoEeymVWrBPyAMNwZ', '2qdmM6JfK55YDUGMgRgJW2', '3A1mKAZnetfVryOO15Ve9A', '1YAk839AZQjTDp7vT0f3Tm', '3Fzlg5r1IjhLk2qRw667od', '0rwfdNfevJobP61cOHiFv7', '3uwYgNxFDfx1GoLB6tLoUn', '32OlwWuMpZ6b0aN2RZOeMS', '6JV2JOEocMgcZxYSZelKcc', '4kbj5MwxO1bq9wjT5g9HaA', '4bHsxqR3GMrXTxEPLuK5ue', '2KH16WveTQWT6KOG9Rg6e2', '0cqRj7pUJDkTCEsJkx8snD', '3cfOd4CMv2snFaKAnMdnvK', '0nrRP2bk19rLc0orkWPQk2', '3E7dfMvvCLUddWissuqMwr', '4kLLWz7srcuLKA7Et40PQR', '5hWdgGVcfTeLPAiHM6EZG9', '6W2VbtvMrDXm5vYeB7amkO', '2ygMBIctKIAfbEBcT9065L', '7rIovIsXE6kMn629b7kDig', '1v2zyAJrChw5JnfafSkwkJ', '37ZJ0p5Jm13JPevGcx4SkF', '2WfaOiMkCvy7F5fcp2zZ8L', '4cluDES4hQEUhmXj6TXkSo', '37f4ITSlgPX81ad2EvmVQr', '1gv4xPanImH17bKZ9rOveR', '0GjEhVFGZW8afUYGChu3Rr', '3C0nOe05EIt1390bVABLyN', '1mXuMM6zjPgjL4asbBsgnt', '2CEgGE6aESpnmtfiZwYlbV', '3ZFTkvIE7kyPt6Nu3PEa7V', '48QmG1dfvMuYLxMPt7KSRA']\n"
     ]
    }
   ],
   "source": [
    "print(ids)"
   ]
  },
  {
   "cell_type": "code",
   "execution_count": 6,
   "metadata": {},
   "outputs": [],
   "source": [
    "def getTrackFeatures(id):\n",
    "    meta = sp.track(id)\n",
    "    features = sp.audio_features(id)\n",
    "    name = meta['name']\n",
    "    artist = meta['album']['artists'][0]['name']\n",
    "    length = meta['duration_ms']\n",
    "# features\n",
    "    acousticness = features[0]['acousticness']\n",
    "    danceability = features[0]['danceability']\n",
    "    energy = features[0]['energy']\n",
    "    instrumentalness = features[0]['instrumentalness']\n",
    "    liveness = features[0]['liveness']\n",
    "    loudness = features[0]['loudness']\n",
    "    speechiness = features[0]['speechiness']\n",
    "    tempo = features[0]['tempo']\n",
    "    track = [name, artist, length, danceability, acousticness, energy, instrumentalness, liveness, loudness, speechiness, tempo]\n",
    "    return track"
   ]
  },
  {
   "cell_type": "code",
   "execution_count": 7,
   "metadata": {},
   "outputs": [],
   "source": [
    "# loop\n",
    "tracks = []\n",
    "for i in range(len(ids)):\n",
    "  track = getTrackFeatures(ids[i])\n",
    "  tracks.append(track)\n",
    "  track\n",
    "# create dataset\n",
    "  df = pd.DataFrame(tracks, columns = ['name', 'artist', 'length', 'danceability', 'acousticness', 'energy', 'instrumentalness', 'liveness', 'loudness', 'speechiness', 'tempo'])\n",
    "  df.to_csv(\"Euphon.csv\", sep = ',')"
   ]
  },
  {
   "cell_type": "code",
   "execution_count": 8,
   "metadata": {},
   "outputs": [],
   "source": [
    "ids = get_playlist_ids('31rb7hikptne74w3mvgiontedoei', 'https://open.spotify.com/playlist/03UVXQWIhW7Da5z5NixGTv?si=e33bb2d4c52c42e3')"
   ]
  },
  {
   "cell_type": "code",
   "execution_count": null,
   "metadata": {},
   "outputs": [],
   "source": []
  }
 ],
 "metadata": {
  "kernelspec": {
   "display_name": "test_env",
   "language": "python",
   "name": "python3"
  },
  "language_info": {
   "codemirror_mode": {
    "name": "ipython",
    "version": 3
   },
   "file_extension": ".py",
   "mimetype": "text/x-python",
   "name": "python",
   "nbconvert_exporter": "python",
   "pygments_lexer": "ipython3",
   "version": "3.6.15"
  }
 },
 "nbformat": 4,
 "nbformat_minor": 2
}

{
 "cells": [
  {
   "cell_type": "code",
   "execution_count": 1,
   "metadata": {},
   "outputs": [],
   "source": [
    "from sklearn.neighbors import NearestNeighbors\n",
    "import pandas as pd\n",
    "import plotly.express as px\n",
    "import matplotlib.pyplot as plt\n",
    "%matplotlib inline\n",
    "import numpy as np\n",
    "import seaborn as sns\n"
   ]
  },
  {
   "cell_type": "code",
   "execution_count": 2,
   "metadata": {},
   "outputs": [
    {
     "data": {
      "text/html": [
       "<div>\n",
       "<style scoped>\n",
       "    .dataframe tbody tr th:only-of-type {\n",
       "        vertical-align: middle;\n",
       "    }\n",
       "\n",
       "    .dataframe tbody tr th {\n",
       "        vertical-align: top;\n",
       "    }\n",
       "\n",
       "    .dataframe thead th {\n",
       "        text-align: right;\n",
       "    }\n",
       "</style>\n",
       "<table border=\"1\" class=\"dataframe\">\n",
       "  <thead>\n",
       "    <tr style=\"text-align: right;\">\n",
       "      <th></th>\n",
       "      <th>Unnamed: 0</th>\n",
       "      <th>name</th>\n",
       "      <th>artist</th>\n",
       "      <th>length</th>\n",
       "      <th>danceability</th>\n",
       "      <th>acousticness</th>\n",
       "      <th>energy</th>\n",
       "      <th>instrumentalness</th>\n",
       "      <th>liveness</th>\n",
       "      <th>loudness</th>\n",
       "      <th>speechiness</th>\n",
       "      <th>tempo</th>\n",
       "    </tr>\n",
       "  </thead>\n",
       "  <tbody>\n",
       "    <tr>\n",
       "      <th>0</th>\n",
       "      <td>0</td>\n",
       "      <td>Happy - From \"Despicable Me 2\"</td>\n",
       "      <td>Pharrell Williams</td>\n",
       "      <td>232720</td>\n",
       "      <td>0.647</td>\n",
       "      <td>0.21900</td>\n",
       "      <td>0.822</td>\n",
       "      <td>0.000000</td>\n",
       "      <td>0.0908</td>\n",
       "      <td>-4.662</td>\n",
       "      <td>0.1830</td>\n",
       "      <td>160.019</td>\n",
       "    </tr>\n",
       "    <tr>\n",
       "      <th>1</th>\n",
       "      <td>1</td>\n",
       "      <td>Wow, I'm Not Crazy</td>\n",
       "      <td>AJR</td>\n",
       "      <td>196762</td>\n",
       "      <td>0.284</td>\n",
       "      <td>0.04380</td>\n",
       "      <td>0.609</td>\n",
       "      <td>0.000000</td>\n",
       "      <td>0.1770</td>\n",
       "      <td>-6.033</td>\n",
       "      <td>0.1230</td>\n",
       "      <td>85.386</td>\n",
       "    </tr>\n",
       "    <tr>\n",
       "      <th>2</th>\n",
       "      <td>2</td>\n",
       "      <td>All My Love</td>\n",
       "      <td>George Ezra</td>\n",
       "      <td>160950</td>\n",
       "      <td>0.449</td>\n",
       "      <td>0.13500</td>\n",
       "      <td>0.571</td>\n",
       "      <td>0.000000</td>\n",
       "      <td>0.2790</td>\n",
       "      <td>-5.206</td>\n",
       "      <td>0.0503</td>\n",
       "      <td>173.730</td>\n",
       "    </tr>\n",
       "    <tr>\n",
       "      <th>3</th>\n",
       "      <td>3</td>\n",
       "      <td>Ride</td>\n",
       "      <td>Naïka</td>\n",
       "      <td>201311</td>\n",
       "      <td>0.738</td>\n",
       "      <td>0.10900</td>\n",
       "      <td>0.752</td>\n",
       "      <td>0.000006</td>\n",
       "      <td>0.0905</td>\n",
       "      <td>-6.637</td>\n",
       "      <td>0.0573</td>\n",
       "      <td>96.985</td>\n",
       "    </tr>\n",
       "    <tr>\n",
       "      <th>4</th>\n",
       "      <td>4</td>\n",
       "      <td>You're Welcome</td>\n",
       "      <td>Various Artists</td>\n",
       "      <td>163893</td>\n",
       "      <td>0.788</td>\n",
       "      <td>0.29000</td>\n",
       "      <td>0.745</td>\n",
       "      <td>0.000000</td>\n",
       "      <td>0.0373</td>\n",
       "      <td>-7.072</td>\n",
       "      <td>0.2580</td>\n",
       "      <td>135.278</td>\n",
       "    </tr>\n",
       "    <tr>\n",
       "      <th>...</th>\n",
       "      <td>...</td>\n",
       "      <td>...</td>\n",
       "      <td>...</td>\n",
       "      <td>...</td>\n",
       "      <td>...</td>\n",
       "      <td>...</td>\n",
       "      <td>...</td>\n",
       "      <td>...</td>\n",
       "      <td>...</td>\n",
       "      <td>...</td>\n",
       "      <td>...</td>\n",
       "      <td>...</td>\n",
       "    </tr>\n",
       "    <tr>\n",
       "      <th>125</th>\n",
       "      <td>125</td>\n",
       "      <td>On The Floor</td>\n",
       "      <td>Jennifer Lopez</td>\n",
       "      <td>284866</td>\n",
       "      <td>0.730</td>\n",
       "      <td>0.10500</td>\n",
       "      <td>0.777</td>\n",
       "      <td>0.000478</td>\n",
       "      <td>0.0691</td>\n",
       "      <td>-5.194</td>\n",
       "      <td>0.0496</td>\n",
       "      <td>130.000</td>\n",
       "    </tr>\n",
       "    <tr>\n",
       "      <th>126</th>\n",
       "      <td>126</td>\n",
       "      <td>Firework</td>\n",
       "      <td>Katy Perry</td>\n",
       "      <td>227893</td>\n",
       "      <td>0.638</td>\n",
       "      <td>0.14100</td>\n",
       "      <td>0.832</td>\n",
       "      <td>0.000000</td>\n",
       "      <td>0.1130</td>\n",
       "      <td>-5.039</td>\n",
       "      <td>0.0490</td>\n",
       "      <td>124.071</td>\n",
       "    </tr>\n",
       "    <tr>\n",
       "      <th>127</th>\n",
       "      <td>127</td>\n",
       "      <td>Dynamite</td>\n",
       "      <td>Taio Cruz</td>\n",
       "      <td>202613</td>\n",
       "      <td>0.751</td>\n",
       "      <td>0.00379</td>\n",
       "      <td>0.783</td>\n",
       "      <td>0.000000</td>\n",
       "      <td>0.0360</td>\n",
       "      <td>-3.724</td>\n",
       "      <td>0.0859</td>\n",
       "      <td>119.975</td>\n",
       "    </tr>\n",
       "    <tr>\n",
       "      <th>128</th>\n",
       "      <td>128</td>\n",
       "      <td>Hips Don't Lie (feat. Wyclef Jean)</td>\n",
       "      <td>Shakira</td>\n",
       "      <td>218093</td>\n",
       "      <td>0.778</td>\n",
       "      <td>0.28400</td>\n",
       "      <td>0.824</td>\n",
       "      <td>0.000000</td>\n",
       "      <td>0.4050</td>\n",
       "      <td>-5.892</td>\n",
       "      <td>0.0707</td>\n",
       "      <td>100.024</td>\n",
       "    </tr>\n",
       "    <tr>\n",
       "      <th>129</th>\n",
       "      <td>129</td>\n",
       "      <td>No Lie</td>\n",
       "      <td>Sean Paul</td>\n",
       "      <td>221176</td>\n",
       "      <td>0.742</td>\n",
       "      <td>0.04660</td>\n",
       "      <td>0.882</td>\n",
       "      <td>0.000000</td>\n",
       "      <td>0.2060</td>\n",
       "      <td>-2.862</td>\n",
       "      <td>0.1170</td>\n",
       "      <td>102.040</td>\n",
       "    </tr>\n",
       "  </tbody>\n",
       "</table>\n",
       "<p>130 rows × 12 columns</p>\n",
       "</div>"
      ],
      "text/plain": [
       "     Unnamed: 0                                name             artist  \\\n",
       "0             0      Happy - From \"Despicable Me 2\"  Pharrell Williams   \n",
       "1             1                  Wow, I'm Not Crazy                AJR   \n",
       "2             2                         All My Love        George Ezra   \n",
       "3             3                                Ride              Naïka   \n",
       "4             4                      You're Welcome    Various Artists   \n",
       "..          ...                                 ...                ...   \n",
       "125         125                        On The Floor     Jennifer Lopez   \n",
       "126         126                            Firework         Katy Perry   \n",
       "127         127                            Dynamite          Taio Cruz   \n",
       "128         128  Hips Don't Lie (feat. Wyclef Jean)            Shakira   \n",
       "129         129                              No Lie          Sean Paul   \n",
       "\n",
       "     length  danceability  acousticness  energy  instrumentalness  liveness  \\\n",
       "0    232720         0.647       0.21900   0.822          0.000000    0.0908   \n",
       "1    196762         0.284       0.04380   0.609          0.000000    0.1770   \n",
       "2    160950         0.449       0.13500   0.571          0.000000    0.2790   \n",
       "3    201311         0.738       0.10900   0.752          0.000006    0.0905   \n",
       "4    163893         0.788       0.29000   0.745          0.000000    0.0373   \n",
       "..      ...           ...           ...     ...               ...       ...   \n",
       "125  284866         0.730       0.10500   0.777          0.000478    0.0691   \n",
       "126  227893         0.638       0.14100   0.832          0.000000    0.1130   \n",
       "127  202613         0.751       0.00379   0.783          0.000000    0.0360   \n",
       "128  218093         0.778       0.28400   0.824          0.000000    0.4050   \n",
       "129  221176         0.742       0.04660   0.882          0.000000    0.2060   \n",
       "\n",
       "     loudness  speechiness    tempo  \n",
       "0      -4.662       0.1830  160.019  \n",
       "1      -6.033       0.1230   85.386  \n",
       "2      -5.206       0.0503  173.730  \n",
       "3      -6.637       0.0573   96.985  \n",
       "4      -7.072       0.2580  135.278  \n",
       "..        ...          ...      ...  \n",
       "125    -5.194       0.0496  130.000  \n",
       "126    -5.039       0.0490  124.071  \n",
       "127    -3.724       0.0859  119.975  \n",
       "128    -5.892       0.0707  100.024  \n",
       "129    -2.862       0.1170  102.040  \n",
       "\n",
       "[130 rows x 12 columns]"
      ]
     },
     "execution_count": 2,
     "metadata": {},
     "output_type": "execute_result"
    }
   ],
   "source": [
    "Happy = pd.read_csv(\"/home/maverick/ML_self/Happy.csv\")\n",
    "Happy"
   ]
  },
  {
   "cell_type": "code",
   "execution_count": 3,
   "metadata": {},
   "outputs": [
    {
     "data": {
      "text/html": [
       "<div>\n",
       "<style scoped>\n",
       "    .dataframe tbody tr th:only-of-type {\n",
       "        vertical-align: middle;\n",
       "    }\n",
       "\n",
       "    .dataframe tbody tr th {\n",
       "        vertical-align: top;\n",
       "    }\n",
       "\n",
       "    .dataframe thead th {\n",
       "        text-align: right;\n",
       "    }\n",
       "</style>\n",
       "<table border=\"1\" class=\"dataframe\">\n",
       "  <thead>\n",
       "    <tr style=\"text-align: right;\">\n",
       "      <th></th>\n",
       "      <th>Unnamed: 0</th>\n",
       "      <th>name</th>\n",
       "      <th>artist</th>\n",
       "      <th>length</th>\n",
       "      <th>danceability</th>\n",
       "      <th>acousticness</th>\n",
       "      <th>energy</th>\n",
       "      <th>instrumentalness</th>\n",
       "      <th>liveness</th>\n",
       "      <th>loudness</th>\n",
       "      <th>speechiness</th>\n",
       "      <th>tempo</th>\n",
       "    </tr>\n",
       "  </thead>\n",
       "  <tbody>\n",
       "    <tr>\n",
       "      <th>0</th>\n",
       "      <td>0</td>\n",
       "      <td>Holy - Acoustic</td>\n",
       "      <td>Justin Bieber</td>\n",
       "      <td>205815</td>\n",
       "      <td>0.532</td>\n",
       "      <td>0.706</td>\n",
       "      <td>0.566</td>\n",
       "      <td>0.000000</td>\n",
       "      <td>0.1610</td>\n",
       "      <td>-6.511</td>\n",
       "      <td>0.0467</td>\n",
       "      <td>79.927</td>\n",
       "    </tr>\n",
       "    <tr>\n",
       "      <th>1</th>\n",
       "      <td>1</td>\n",
       "      <td>You Don't Even Know Me</td>\n",
       "      <td>Faouzia</td>\n",
       "      <td>179396</td>\n",
       "      <td>0.577</td>\n",
       "      <td>0.244</td>\n",
       "      <td>0.663</td>\n",
       "      <td>0.000077</td>\n",
       "      <td>0.0795</td>\n",
       "      <td>-4.788</td>\n",
       "      <td>0.0374</td>\n",
       "      <td>165.938</td>\n",
       "    </tr>\n",
       "    <tr>\n",
       "      <th>2</th>\n",
       "      <td>2</td>\n",
       "      <td>This Mountain</td>\n",
       "      <td>Faouzia</td>\n",
       "      <td>142259</td>\n",
       "      <td>0.675</td>\n",
       "      <td>0.215</td>\n",
       "      <td>0.930</td>\n",
       "      <td>0.000000</td>\n",
       "      <td>0.0638</td>\n",
       "      <td>-3.131</td>\n",
       "      <td>0.0690</td>\n",
       "      <td>129.965</td>\n",
       "    </tr>\n",
       "    <tr>\n",
       "      <th>3</th>\n",
       "      <td>3</td>\n",
       "      <td>Tears of Gold</td>\n",
       "      <td>Faouzia</td>\n",
       "      <td>176117</td>\n",
       "      <td>0.587</td>\n",
       "      <td>0.128</td>\n",
       "      <td>0.664</td>\n",
       "      <td>0.000000</td>\n",
       "      <td>0.3230</td>\n",
       "      <td>-5.698</td>\n",
       "      <td>0.0523</td>\n",
       "      <td>149.957</td>\n",
       "    </tr>\n",
       "    <tr>\n",
       "      <th>4</th>\n",
       "      <td>4</td>\n",
       "      <td>Out Of Love</td>\n",
       "      <td>Alessia Cara</td>\n",
       "      <td>227693</td>\n",
       "      <td>0.481</td>\n",
       "      <td>0.800</td>\n",
       "      <td>0.267</td>\n",
       "      <td>0.000000</td>\n",
       "      <td>0.2490</td>\n",
       "      <td>-9.249</td>\n",
       "      <td>0.0339</td>\n",
       "      <td>117.640</td>\n",
       "    </tr>\n",
       "    <tr>\n",
       "      <th>...</th>\n",
       "      <td>...</td>\n",
       "      <td>...</td>\n",
       "      <td>...</td>\n",
       "      <td>...</td>\n",
       "      <td>...</td>\n",
       "      <td>...</td>\n",
       "      <td>...</td>\n",
       "      <td>...</td>\n",
       "      <td>...</td>\n",
       "      <td>...</td>\n",
       "      <td>...</td>\n",
       "      <td>...</td>\n",
       "    </tr>\n",
       "    <tr>\n",
       "      <th>125</th>\n",
       "      <td>125</td>\n",
       "      <td>Wicked Game</td>\n",
       "      <td>Chris Isaak</td>\n",
       "      <td>289066</td>\n",
       "      <td>0.663</td>\n",
       "      <td>0.680</td>\n",
       "      <td>0.296</td>\n",
       "      <td>0.008370</td>\n",
       "      <td>0.0879</td>\n",
       "      <td>-18.090</td>\n",
       "      <td>0.0294</td>\n",
       "      <td>112.306</td>\n",
       "    </tr>\n",
       "    <tr>\n",
       "      <th>126</th>\n",
       "      <td>126</td>\n",
       "      <td>Romeo And Juliet</td>\n",
       "      <td>Dire Straits</td>\n",
       "      <td>360666</td>\n",
       "      <td>0.613</td>\n",
       "      <td>0.546</td>\n",
       "      <td>0.441</td>\n",
       "      <td>0.013200</td>\n",
       "      <td>0.0869</td>\n",
       "      <td>-11.999</td>\n",
       "      <td>0.0309</td>\n",
       "      <td>87.573</td>\n",
       "    </tr>\n",
       "    <tr>\n",
       "      <th>127</th>\n",
       "      <td>127</td>\n",
       "      <td>A Whiter Shade of Pale</td>\n",
       "      <td>Annie Lennox</td>\n",
       "      <td>316760</td>\n",
       "      <td>0.521</td>\n",
       "      <td>0.399</td>\n",
       "      <td>0.583</td>\n",
       "      <td>0.001740</td>\n",
       "      <td>0.3470</td>\n",
       "      <td>-8.451</td>\n",
       "      <td>0.0274</td>\n",
       "      <td>146.009</td>\n",
       "    </tr>\n",
       "    <tr>\n",
       "      <th>128</th>\n",
       "      <td>128</td>\n",
       "      <td>Wild Wood</td>\n",
       "      <td>Paul Weller</td>\n",
       "      <td>202266</td>\n",
       "      <td>0.594</td>\n",
       "      <td>0.418</td>\n",
       "      <td>0.224</td>\n",
       "      <td>0.015400</td>\n",
       "      <td>0.1140</td>\n",
       "      <td>-15.312</td>\n",
       "      <td>0.0482</td>\n",
       "      <td>153.726</td>\n",
       "    </tr>\n",
       "    <tr>\n",
       "      <th>129</th>\n",
       "      <td>129</td>\n",
       "      <td>Alone Again (Naturally)</td>\n",
       "      <td>Gilbert O'Sullivan</td>\n",
       "      <td>221373</td>\n",
       "      <td>0.558</td>\n",
       "      <td>0.625</td>\n",
       "      <td>0.528</td>\n",
       "      <td>0.000075</td>\n",
       "      <td>0.1040</td>\n",
       "      <td>-6.265</td>\n",
       "      <td>0.0320</td>\n",
       "      <td>171.797</td>\n",
       "    </tr>\n",
       "  </tbody>\n",
       "</table>\n",
       "<p>130 rows × 12 columns</p>\n",
       "</div>"
      ],
      "text/plain": [
       "     Unnamed: 0                     name              artist  length  \\\n",
       "0             0          Holy - Acoustic       Justin Bieber  205815   \n",
       "1             1   You Don't Even Know Me             Faouzia  179396   \n",
       "2             2            This Mountain             Faouzia  142259   \n",
       "3             3            Tears of Gold             Faouzia  176117   \n",
       "4             4              Out Of Love        Alessia Cara  227693   \n",
       "..          ...                      ...                 ...     ...   \n",
       "125         125              Wicked Game         Chris Isaak  289066   \n",
       "126         126         Romeo And Juliet        Dire Straits  360666   \n",
       "127         127   A Whiter Shade of Pale        Annie Lennox  316760   \n",
       "128         128                Wild Wood         Paul Weller  202266   \n",
       "129         129  Alone Again (Naturally)  Gilbert O'Sullivan  221373   \n",
       "\n",
       "     danceability  acousticness  energy  instrumentalness  liveness  loudness  \\\n",
       "0           0.532         0.706   0.566          0.000000    0.1610    -6.511   \n",
       "1           0.577         0.244   0.663          0.000077    0.0795    -4.788   \n",
       "2           0.675         0.215   0.930          0.000000    0.0638    -3.131   \n",
       "3           0.587         0.128   0.664          0.000000    0.3230    -5.698   \n",
       "4           0.481         0.800   0.267          0.000000    0.2490    -9.249   \n",
       "..            ...           ...     ...               ...       ...       ...   \n",
       "125         0.663         0.680   0.296          0.008370    0.0879   -18.090   \n",
       "126         0.613         0.546   0.441          0.013200    0.0869   -11.999   \n",
       "127         0.521         0.399   0.583          0.001740    0.3470    -8.451   \n",
       "128         0.594         0.418   0.224          0.015400    0.1140   -15.312   \n",
       "129         0.558         0.625   0.528          0.000075    0.1040    -6.265   \n",
       "\n",
       "     speechiness    tempo  \n",
       "0         0.0467   79.927  \n",
       "1         0.0374  165.938  \n",
       "2         0.0690  129.965  \n",
       "3         0.0523  149.957  \n",
       "4         0.0339  117.640  \n",
       "..           ...      ...  \n",
       "125       0.0294  112.306  \n",
       "126       0.0309   87.573  \n",
       "127       0.0274  146.009  \n",
       "128       0.0482  153.726  \n",
       "129       0.0320  171.797  \n",
       "\n",
       "[130 rows x 12 columns]"
      ]
     },
     "execution_count": 3,
     "metadata": {},
     "output_type": "execute_result"
    }
   ],
   "source": [
    "Euphon = pd.read_csv(\"/home/maverick/ML_self/Euphon.csv\")\n",
    "Euphon"
   ]
  },
  {
   "cell_type": "code",
   "execution_count": 4,
   "metadata": {},
   "outputs": [
    {
     "data": {
      "text/plain": [
       "Index(['Unnamed: 0', 'name', 'artist', 'length', 'danceability',\n",
       "       'acousticness', 'energy', 'instrumentalness', 'liveness', 'loudness',\n",
       "       'speechiness', 'tempo'],\n",
       "      dtype='object')"
      ]
     },
     "execution_count": 4,
     "metadata": {},
     "output_type": "execute_result"
    }
   ],
   "source": [
    "Happy.columns"
   ]
  },
  {
   "cell_type": "code",
   "execution_count": 5,
   "metadata": {},
   "outputs": [
    {
     "data": {
      "text/plain": [
       "Text(0.5, 1.0, 'energy intensity across all songs in both playlists')"
      ]
     },
     "execution_count": 5,
     "metadata": {},
     "output_type": "execute_result"
    },
    {
     "data": {
      "image/png": "[encoded data removed]",
      "text/plain": [
       "<Figure size 432x288 with 1 Axes>"
      ]
     },
     "metadata": {
      "needs_background": "light"
     },
     "output_type": "display_data"
    }
   ],
   "source": [
    "plt.plot(Happy.energy, color='blue')\n",
    "plt.plot(Euphon.energy, color='red')\n",
    "plt.xlabel(\"song #\")\n",
    "plt.ylabel(\"energy intensity\")\n",
    "plt.title(\"energy intensity across all songs in both playlists\")"
   ]
  },
  {
   "cell_type": "code",
   "execution_count": 6,
   "metadata": {},
   "outputs": [
    {
     "data": {
      "text/plain": [
       "[<matplotlib.lines.Line2D at 0x7f0fbbd4d6d8>]"
      ]
     },
     "execution_count": 6,
     "metadata": {},
     "output_type": "execute_result"
    },
    {
     "data": {
      "image/png": "[encoded data removed]",
      "text/plain": [
       "<Figure size 1440x360 with 6 Axes>"
      ]
     },
     "metadata": {
      "needs_background": "light"
     },
     "output_type": "display_data"
    }
   ],
   "source": [
    "from turtle import color\n",
    "from pyparsing import col\n",
    "\n",
    "\n",
    "fig , axes = plt.subplots(1,6,figsize=(20,5))\n",
    "axes[0].plot(Happy.energy,color='blue')\n",
    "axes[0].plot(Euphon.energy,color='red')\n",
    "axes[1].plot(Happy.acousticness,color='blue')\n",
    "axes[1].plot(Euphon.acousticness,color='red')\n",
    "axes[2].plot(Happy.loudness,color='blue')\n",
    "axes[2].plot(Euphon.loudness,color='red')\n",
    "axes[3].plot(Happy.danceability,color='blue')\n",
    "axes[3].plot(Euphon.danceability,color='red')\n",
    "axes[4].plot(Happy.instrumentalness,color='blue')\n",
    "axes[4].plot(Euphon.instrumentalness,color='red')\n",
    "axes[5].plot(Happy.liveness,color='blue')\n",
    "axes[5].plot(Euphon.liveness,color='red')\n"
   ]
  },
  {
   "cell_type": "code",
   "execution_count": 7,
   "metadata": {},
   "outputs": [
    {
     "data": {
      "text/html": [
       "<div>\n",
       "<style scoped>\n",
       "    .dataframe tbody tr th:only-of-type {\n",
       "        vertical-align: middle;\n",
       "    }\n",
       "\n",
       "    .dataframe tbody tr th {\n",
       "        vertical-align: top;\n",
       "    }\n",
       "\n",
       "    .dataframe thead th {\n",
       "        text-align: right;\n",
       "    }\n",
       "</style>\n",
       "<table border=\"1\" class=\"dataframe\">\n",
       "  <thead>\n",
       "    <tr style=\"text-align: right;\">\n",
       "      <th></th>\n",
       "      <th>acousticness</th>\n",
       "      <th>energy</th>\n",
       "      <th>loudness</th>\n",
       "      <th>target</th>\n",
       "    </tr>\n",
       "  </thead>\n",
       "  <tbody>\n",
       "    <tr>\n",
       "      <th>0</th>\n",
       "      <td>0.2190</td>\n",
       "      <td>0.822</td>\n",
       "      <td>-4.662</td>\n",
       "      <td>1</td>\n",
       "    </tr>\n",
       "    <tr>\n",
       "      <th>1</th>\n",
       "      <td>0.0438</td>\n",
       "      <td>0.609</td>\n",
       "      <td>-6.033</td>\n",
       "      <td>1</td>\n",
       "    </tr>\n",
       "    <tr>\n",
       "      <th>2</th>\n",
       "      <td>0.1350</td>\n",
       "      <td>0.571</td>\n",
       "      <td>-5.206</td>\n",
       "      <td>1</td>\n",
       "    </tr>\n",
       "    <tr>\n",
       "      <th>3</th>\n",
       "      <td>0.1090</td>\n",
       "      <td>0.752</td>\n",
       "      <td>-6.637</td>\n",
       "      <td>1</td>\n",
       "    </tr>\n",
       "    <tr>\n",
       "      <th>4</th>\n",
       "      <td>0.2900</td>\n",
       "      <td>0.745</td>\n",
       "      <td>-7.072</td>\n",
       "      <td>1</td>\n",
       "    </tr>\n",
       "    <tr>\n",
       "      <th>...</th>\n",
       "      <td>...</td>\n",
       "      <td>...</td>\n",
       "      <td>...</td>\n",
       "      <td>...</td>\n",
       "    </tr>\n",
       "    <tr>\n",
       "      <th>255</th>\n",
       "      <td>0.6800</td>\n",
       "      <td>0.296</td>\n",
       "      <td>-18.090</td>\n",
       "      <td>0</td>\n",
       "    </tr>\n",
       "    <tr>\n",
       "      <th>256</th>\n",
       "      <td>0.5460</td>\n",
       "      <td>0.441</td>\n",
       "      <td>-11.999</td>\n",
       "      <td>0</td>\n",
       "    </tr>\n",
       "    <tr>\n",
       "      <th>257</th>\n",
       "      <td>0.3990</td>\n",
       "      <td>0.583</td>\n",
       "      <td>-8.451</td>\n",
       "      <td>0</td>\n",
       "    </tr>\n",
       "    <tr>\n",
       "      <th>258</th>\n",
       "      <td>0.4180</td>\n",
       "      <td>0.224</td>\n",
       "      <td>-15.312</td>\n",
       "      <td>0</td>\n",
       "    </tr>\n",
       "    <tr>\n",
       "      <th>259</th>\n",
       "      <td>0.6250</td>\n",
       "      <td>0.528</td>\n",
       "      <td>-6.265</td>\n",
       "      <td>0</td>\n",
       "    </tr>\n",
       "  </tbody>\n",
       "</table>\n",
       "<p>260 rows × 4 columns</p>\n",
       "</div>"
      ],
      "text/plain": [
       "     acousticness  energy  loudness  target\n",
       "0          0.2190   0.822    -4.662       1\n",
       "1          0.0438   0.609    -6.033       1\n",
       "2          0.1350   0.571    -5.206       1\n",
       "3          0.1090   0.752    -6.637       1\n",
       "4          0.2900   0.745    -7.072       1\n",
       "..            ...     ...       ...     ...\n",
       "255        0.6800   0.296   -18.090       0\n",
       "256        0.5460   0.441   -11.999       0\n",
       "257        0.3990   0.583    -8.451       0\n",
       "258        0.4180   0.224   -15.312       0\n",
       "259        0.6250   0.528    -6.265       0\n",
       "\n",
       "[260 rows x 4 columns]"
      ]
     },
     "execution_count": 7,
     "metadata": {},
     "output_type": "execute_result"
    }
   ],
   "source": [
    "Happy_Eupho = pd.read_csv(\"/home/maverick/ML_self/Happy_Eupho.csv\")\n",
    "Happy_Eupho"
   ]
  },
  {
   "cell_type": "code",
   "execution_count": 8,
   "metadata": {},
   "outputs": [
    {
     "data": {
      "text/html": [
       "<div>\n",
       "<style scoped>\n",
       "    .dataframe tbody tr th:only-of-type {\n",
       "        vertical-align: middle;\n",
       "    }\n",
       "\n",
       "    .dataframe tbody tr th {\n",
       "        vertical-align: top;\n",
       "    }\n",
       "\n",
       "    .dataframe thead th {\n",
       "        text-align: right;\n",
       "    }\n",
       "</style>\n",
       "<table border=\"1\" class=\"dataframe\">\n",
       "  <thead>\n",
       "    <tr style=\"text-align: right;\">\n",
       "      <th></th>\n",
       "      <th>acousticness</th>\n",
       "      <th>energy</th>\n",
       "      <th>loudness</th>\n",
       "    </tr>\n",
       "  </thead>\n",
       "  <tbody>\n",
       "    <tr>\n",
       "      <th>0</th>\n",
       "      <td>0.2190</td>\n",
       "      <td>0.822</td>\n",
       "      <td>-4.662</td>\n",
       "    </tr>\n",
       "    <tr>\n",
       "      <th>1</th>\n",
       "      <td>0.0438</td>\n",
       "      <td>0.609</td>\n",
       "      <td>-6.033</td>\n",
       "    </tr>\n",
       "    <tr>\n",
       "      <th>2</th>\n",
       "      <td>0.1350</td>\n",
       "      <td>0.571</td>\n",
       "      <td>-5.206</td>\n",
       "    </tr>\n",
       "    <tr>\n",
       "      <th>3</th>\n",
       "      <td>0.1090</td>\n",
       "      <td>0.752</td>\n",
       "      <td>-6.637</td>\n",
       "    </tr>\n",
       "    <tr>\n",
       "      <th>4</th>\n",
       "      <td>0.2900</td>\n",
       "      <td>0.745</td>\n",
       "      <td>-7.072</td>\n",
       "    </tr>\n",
       "    <tr>\n",
       "      <th>...</th>\n",
       "      <td>...</td>\n",
       "      <td>...</td>\n",
       "      <td>...</td>\n",
       "    </tr>\n",
       "    <tr>\n",
       "      <th>255</th>\n",
       "      <td>0.6800</td>\n",
       "      <td>0.296</td>\n",
       "      <td>-18.090</td>\n",
       "    </tr>\n",
       "    <tr>\n",
       "      <th>256</th>\n",
       "      <td>0.5460</td>\n",
       "      <td>0.441</td>\n",
       "      <td>-11.999</td>\n",
       "    </tr>\n",
       "    <tr>\n",
       "      <th>257</th>\n",
       "      <td>0.3990</td>\n",
       "      <td>0.583</td>\n",
       "      <td>-8.451</td>\n",
       "    </tr>\n",
       "    <tr>\n",
       "      <th>258</th>\n",
       "      <td>0.4180</td>\n",
       "      <td>0.224</td>\n",
       "      <td>-15.312</td>\n",
       "    </tr>\n",
       "    <tr>\n",
       "      <th>259</th>\n",
       "      <td>0.6250</td>\n",
       "      <td>0.528</td>\n",
       "      <td>-6.265</td>\n",
       "    </tr>\n",
       "  </tbody>\n",
       "</table>\n",
       "<p>260 rows × 3 columns</p>\n",
       "</div>"
      ],
      "text/plain": [
       "     acousticness  energy  loudness\n",
       "0          0.2190   0.822    -4.662\n",
       "1          0.0438   0.609    -6.033\n",
       "2          0.1350   0.571    -5.206\n",
       "3          0.1090   0.752    -6.637\n",
       "4          0.2900   0.745    -7.072\n",
       "..            ...     ...       ...\n",
       "255        0.6800   0.296   -18.090\n",
       "256        0.5460   0.441   -11.999\n",
       "257        0.3990   0.583    -8.451\n",
       "258        0.4180   0.224   -15.312\n",
       "259        0.6250   0.528    -6.265\n",
       "\n",
       "[260 rows x 3 columns]"
      ]
     },
     "execution_count": 8,
     "metadata": {},
     "output_type": "execute_result"
    }
   ],
   "source": [
    "Standardized_data = Happy_Eupho.drop('target',axis=1)\n",
    "Standardized_data"
   ]
  },
  {
   "cell_type": "code",
   "execution_count": 9,
   "metadata": {},
   "outputs": [],
   "source": [
    "from sklearn.preprocessing import StandardScaler\n",
    "\n",
    "\n",
    "Standardized_data = StandardScaler().fit_transform(Standardized_data)\n",
    "\n",
    "Data_with_features = pd.DataFrame(Standardized_data)"
   ]
  },
  {
   "cell_type": "code",
   "execution_count": 10,
   "metadata": {},
   "outputs": [
    {
     "data": {
      "text/html": [
       "<div>\n",
       "<style scoped>\n",
       "    .dataframe tbody tr th:only-of-type {\n",
       "        vertical-align: middle;\n",
       "    }\n",
       "\n",
       "    .dataframe tbody tr th {\n",
       "        vertical-align: top;\n",
       "    }\n",
       "\n",
       "    .dataframe thead th {\n",
       "        text-align: right;\n",
       "    }\n",
       "</style>\n",
       "<table border=\"1\" class=\"dataframe\">\n",
       "  <thead>\n",
       "    <tr style=\"text-align: right;\">\n",
       "      <th></th>\n",
       "      <th>0</th>\n",
       "      <th>1</th>\n",
       "      <th>2</th>\n",
       "    </tr>\n",
       "  </thead>\n",
       "  <tbody>\n",
       "    <tr>\n",
       "      <th>0</th>\n",
       "      <td>-0.401809</td>\n",
       "      <td>1.025628</td>\n",
       "      <td>0.766198</td>\n",
       "    </tr>\n",
       "    <tr>\n",
       "      <th>1</th>\n",
       "      <td>-0.946861</td>\n",
       "      <td>0.131022</td>\n",
       "      <td>0.389802</td>\n",
       "    </tr>\n",
       "    <tr>\n",
       "      <th>2</th>\n",
       "      <td>-0.663135</td>\n",
       "      <td>-0.028580</td>\n",
       "      <td>0.616848</td>\n",
       "    </tr>\n",
       "    <tr>\n",
       "      <th>3</th>\n",
       "      <td>-0.744022</td>\n",
       "      <td>0.731626</td>\n",
       "      <td>0.223979</td>\n",
       "    </tr>\n",
       "    <tr>\n",
       "      <th>4</th>\n",
       "      <td>-0.180925</td>\n",
       "      <td>0.702226</td>\n",
       "      <td>0.104554</td>\n",
       "    </tr>\n",
       "  </tbody>\n",
       "</table>\n",
       "</div>"
      ],
      "text/plain": [
       "          0         1         2\n",
       "0 -0.401809  1.025628  0.766198\n",
       "1 -0.946861  0.131022  0.389802\n",
       "2 -0.663135 -0.028580  0.616848\n",
       "3 -0.744022  0.731626  0.223979\n",
       "4 -0.180925  0.702226  0.104554"
      ]
     },
     "execution_count": 10,
     "metadata": {},
     "output_type": "execute_result"
    }
   ],
   "source": [
    "Data_with_features.head()"
   ]
  },
  {
   "cell_type": "code",
   "execution_count": 11,
   "metadata": {},
   "outputs": [
    {
     "data": {
      "text/plain": [
       "<bound method NDFrame.describe of             0         1         2\n",
       "0   -0.401809  1.025628  0.766198\n",
       "1   -0.946861  0.131022  0.389802\n",
       "2   -0.663135 -0.028580  0.616848\n",
       "3   -0.744022  0.731626  0.223979\n",
       "4   -0.180925  0.702226  0.104554\n",
       "..        ...       ...       ...\n",
       "255  1.032377 -1.183588 -2.920341\n",
       "256  0.615499 -0.574584 -1.248111\n",
       "257  0.158177  0.021821 -0.274039\n",
       "258  0.217287 -1.485990 -2.157665\n",
       "259  0.861270 -0.209181  0.326108\n",
       "\n",
       "[260 rows x 3 columns]>"
      ]
     },
     "execution_count": 11,
     "metadata": {},
     "output_type": "execute_result"
    }
   ],
   "source": [
    "Data_with_features.describe"
   ]
  },
  {
   "cell_type": "code",
   "execution_count": 12,
   "metadata": {},
   "outputs": [
    {
     "data": {
      "text/plain": [
       "RangeIndex(start=0, stop=3, step=1)"
      ]
     },
     "execution_count": 12,
     "metadata": {},
     "output_type": "execute_result"
    }
   ],
   "source": [
    "Data_with_features.columns"
   ]
  },
  {
   "cell_type": "code",
   "execution_count": 13,
   "metadata": {},
   "outputs": [
    {
     "data": {
      "text/plain": [
       "0    0\n",
       "1    0\n",
       "2    0\n",
       "dtype: int64"
      ]
     },
     "execution_count": 13,
     "metadata": {},
     "output_type": "execute_result"
    }
   ],
   "source": [
    "Data_with_features.isnull().sum()"
   ]
  },
  {
   "cell_type": "code",
   "execution_count": 14,
   "metadata": {},
   "outputs": [
    {
     "data": {
      "text/plain": [
       "(260, 3)"
      ]
     },
     "execution_count": 14,
     "metadata": {},
     "output_type": "execute_result"
    }
   ],
   "source": [
    "Data_with_features.shape"
   ]
  },
  {
   "cell_type": "code",
   "execution_count": 15,
   "metadata": {},
   "outputs": [
    {
     "name": "stdout",
     "output_type": "stream",
     "text": [
      "<class 'pandas.core.frame.DataFrame'>\n",
      "RangeIndex: 260 entries, 0 to 259\n",
      "Data columns (total 3 columns):\n",
      " #   Column  Non-Null Count  Dtype  \n",
      "---  ------  --------------  -----  \n",
      " 0   0       260 non-null    float64\n",
      " 1   1       260 non-null    float64\n",
      " 2   2       260 non-null    float64\n",
      "dtypes: float64(3)\n",
      "memory usage: 6.2 KB\n"
     ]
    }
   ],
   "source": [
    "Data_with_features.info()"
   ]
  },
  {
   "cell_type": "code",
   "execution_count": 16,
   "metadata": {},
   "outputs": [],
   "source": [
    "from sklearn.model_selection import train_test_split\n",
    "\n",
    "X = Data_with_features\n",
    "y = Happy_Eupho['target']"
   ]
  },
  {
   "cell_type": "code",
   "execution_count": 17,
   "metadata": {},
   "outputs": [
    {
     "data": {
      "text/html": [
       "<div>\n",
       "<style scoped>\n",
       "    .dataframe tbody tr th:only-of-type {\n",
       "        vertical-align: middle;\n",
       "    }\n",
       "\n",
       "    .dataframe tbody tr th {\n",
       "        vertical-align: top;\n",
       "    }\n",
       "\n",
       "    .dataframe thead th {\n",
       "        text-align: right;\n",
       "    }\n",
       "</style>\n",
       "<table border=\"1\" class=\"dataframe\">\n",
       "  <thead>\n",
       "    <tr style=\"text-align: right;\">\n",
       "      <th></th>\n",
       "      <th>0</th>\n",
       "      <th>1</th>\n",
       "      <th>2</th>\n",
       "    </tr>\n",
       "  </thead>\n",
       "  <tbody>\n",
       "    <tr>\n",
       "      <th>0</th>\n",
       "      <td>-0.401809</td>\n",
       "      <td>1.025628</td>\n",
       "      <td>0.766198</td>\n",
       "    </tr>\n",
       "    <tr>\n",
       "      <th>1</th>\n",
       "      <td>-0.946861</td>\n",
       "      <td>0.131022</td>\n",
       "      <td>0.389802</td>\n",
       "    </tr>\n",
       "    <tr>\n",
       "      <th>2</th>\n",
       "      <td>-0.663135</td>\n",
       "      <td>-0.028580</td>\n",
       "      <td>0.616848</td>\n",
       "    </tr>\n",
       "    <tr>\n",
       "      <th>3</th>\n",
       "      <td>-0.744022</td>\n",
       "      <td>0.731626</td>\n",
       "      <td>0.223979</td>\n",
       "    </tr>\n",
       "    <tr>\n",
       "      <th>4</th>\n",
       "      <td>-0.180925</td>\n",
       "      <td>0.702226</td>\n",
       "      <td>0.104554</td>\n",
       "    </tr>\n",
       "  </tbody>\n",
       "</table>\n",
       "</div>"
      ],
      "text/plain": [
       "          0         1         2\n",
       "0 -0.401809  1.025628  0.766198\n",
       "1 -0.946861  0.131022  0.389802\n",
       "2 -0.663135 -0.028580  0.616848\n",
       "3 -0.744022  0.731626  0.223979\n",
       "4 -0.180925  0.702226  0.104554"
      ]
     },
     "execution_count": 17,
     "metadata": {},
     "output_type": "execute_result"
    }
   ],
   "source": [
    "X.head()"
   ]
  },
  {
   "cell_type": "code",
   "execution_count": 18,
   "metadata": {},
   "outputs": [
    {
     "data": {
      "text/plain": [
       "0    1\n",
       "1    1\n",
       "2    1\n",
       "3    1\n",
       "4    1\n",
       "Name: target, dtype: int64"
      ]
     },
     "execution_count": 18,
     "metadata": {},
     "output_type": "execute_result"
    }
   ],
   "source": [
    "y.head()"
   ]
  },
  {
   "cell_type": "code",
   "execution_count": 19,
   "metadata": {},
   "outputs": [],
   "source": [
    "X_train , X_test , y_train , y_test = train_test_split(X,y,test_size=0.3,random_state=42,shuffle=True)"
   ]
  },
  {
   "cell_type": "code",
   "execution_count": 20,
   "metadata": {},
   "outputs": [
    {
     "data": {
      "text/plain": [
       "KNeighborsClassifier(metric='euclidean', n_neighbors=7)"
      ]
     },
     "execution_count": 20,
     "metadata": {},
     "output_type": "execute_result"
    }
   ],
   "source": [
    "from sklearn.neighbors import KNeighborsClassifier\n",
    "\n",
    "\n",
    "K_NN = KNeighborsClassifier(n_neighbors=7,p=2,metric='euclidean')\n",
    "K_NN.fit(X_train,y_train)"
   ]
  },
  {
   "cell_type": "code",
   "execution_count": 21,
   "metadata": {},
   "outputs": [
    {
     "data": {
      "text/plain": [
       "array([1, 0, 0, 1, 0, 0, 0, 0, 1, 1, 1, 0, 1, 0, 0, 0, 1, 0, 0, 1, 1, 1,\n",
       "       1, 0, 1, 1, 1, 1, 0, 1, 0, 0, 0, 1, 0, 1, 0, 1, 1, 1, 1, 0, 1, 1,\n",
       "       1, 0, 1, 1, 1, 0, 1, 0, 1, 0, 1, 1, 1, 1, 0, 0, 0, 0, 1, 0, 1, 0,\n",
       "       1, 1, 1, 1, 0, 1, 1, 0, 1, 1, 1, 0])"
      ]
     },
     "execution_count": 21,
     "metadata": {},
     "output_type": "execute_result"
    }
   ],
   "source": [
    "testing = K_NN.predict(X_test)\n",
    "testing"
   ]
  },
  {
   "cell_type": "code",
   "execution_count": 22,
   "metadata": {},
   "outputs": [
    {
     "name": "stdout",
     "output_type": "stream",
     "text": [
      "              precision    recall  f1-score   support\n",
      "\n",
      "           0       0.91      0.77      0.83        39\n",
      "           1       0.80      0.92      0.86        39\n",
      "\n",
      "    accuracy                           0.85        78\n",
      "   macro avg       0.85      0.85      0.85        78\n",
      "weighted avg       0.85      0.85      0.85        78\n",
      "\n"
     ]
    }
   ],
   "source": [
    "from sklearn.metrics import classification_report\n",
    "print(classification_report(y_test,testing))"
   ]
  },
  {
   "cell_type": "code",
   "execution_count": 26,
   "metadata": {},
   "outputs": [],
   "source": [
    "error_rate = []\n",
    "for i in range(1,40):\n",
    "    K_NN = KNeighborsClassifier(n_neighbors=i,p=2,metric='euclidean')\n",
    "    K_NN.fit(X_train,y_train)\n",
    "    testing_i = K_NN.predict(X_test)\n",
    "    error_rate.append(np.mean(testing_i!=y_test))\n",
    "    \n",
    "    "
   ]
  },
  {
   "cell_type": "code",
   "execution_count": 27,
   "metadata": {},
   "outputs": [
    {
     "data": {
      "image/png": "[encoded data removed]",
      "text/plain": [
       "<Figure size 720x432 with 1 Axes>"
      ]
     },
     "metadata": {
      "needs_background": "light"
     },
     "output_type": "display_data"
    }
   ],
   "source": [
    "plt.figure(figsize=(10, 6))\n",
    "plt.plot(range(1, 40), error_rate, color='blue', linestyle='dashed', marker='o', markerfacecolor='red', markersize=8)\n",
    "plt.title('Error Rate vs. K Value')\n",
    "plt.xlabel('K Value')\n",
    "plt.ylabel('Error Rate')\n",
    "plt.grid()\n",
    "plt.show()"
   ]
  },
  {
   "cell_type": "code",
   "execution_count": 31,
   "metadata": {},
   "outputs": [
    {
     "data": {
      "text/plain": [
       "KNeighborsClassifier(metric='euclidean', n_neighbors=8)"
      ]
     },
     "execution_count": 31,
     "metadata": {},
     "output_type": "execute_result"
    }
   ],
   "source": [
    "K_NN = KNeighborsClassifier(n_neighbors=8,p=2,metric='euclidean')\n",
    "K_NN.fit(X_train,y_train)"
   ]
  },
  {
   "cell_type": "code",
   "execution_count": 32,
   "metadata": {},
   "outputs": [],
   "source": [
    "testing = K_NN.predict(X_test)"
   ]
  },
  {
   "cell_type": "code",
   "execution_count": 33,
   "metadata": {},
   "outputs": [
    {
     "name": "stdout",
     "output_type": "stream",
     "text": [
      "              precision    recall  f1-score   support\n",
      "\n",
      "           0       0.91      0.79      0.85        39\n",
      "           1       0.82      0.92      0.87        39\n",
      "\n",
      "    accuracy                           0.86        78\n",
      "   macro avg       0.86      0.86      0.86        78\n",
      "weighted avg       0.86      0.86      0.86        78\n",
      "\n"
     ]
    }
   ],
   "source": [
    "print(classification_report(y_test,testing))"
   ]
  },
  {
   "cell_type": "code",
   "execution_count": null,
   "metadata": {},
   "outputs": [],
   "source": []
  }
 ],
 "metadata": {
  "kernelspec": {
   "display_name": "test_env",
   "language": "python",
   "name": "python3"
  },
  "language_info": {
   "codemirror_mode": {
    "name": "ipython",
    "version": 3
   },
   "file_extension": ".py",
   "mimetype": "text/x-python",
   "name": "python",
   "nbconvert_exporter": "python",
   "pygments_lexer": "ipython3",
   "version": "3.6.15"
  }
 },
 "nbformat": 4,
 "nbformat_minor": 2
}
